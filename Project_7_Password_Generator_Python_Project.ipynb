{
  "nbformat": 4,
  "nbformat_minor": 0,
  "metadata": {
    "colab": {
      "provenance": [],
      "authorship_tag": "ABX9TyOXqce16iPKKmwVxUsn+3T9",
      "include_colab_link": true
    },
    "kernelspec": {
      "name": "python3",
      "display_name": "Python 3"
    },
    "language_info": {
      "name": "python"
    }
  },
  "cells": [
    {
      "cell_type": "markdown",
      "metadata": {
        "id": "view-in-github",
        "colab_type": "text"
      },
      "source": [
        "<a href=\"https://colab.research.google.com/github/Imranshah19/Project-7-Password-Generator-Python-Project/blob/main/Project_7_Password_Generator_Python_Project.ipynb\" target=\"_parent\"><img src=\"https://colab.research.google.com/assets/colab-badge.svg\" alt=\"Open In Colab\"/></a>"
      ]
    },
    {
      "cell_type": "code",
      "execution_count": null,
      "metadata": {
        "id": "PIA-UUytbWv7"
      },
      "outputs": [],
      "source": [
        "import random\n",
        "import string\n",
        "\n",
        "def generate_password(length=12):\n",
        "    \"\"\" Generates a strong random password of given length. \"\"\"\n",
        "\n",
        "    if length < 4:\n",
        "        print(\"❌ Password length should be at least 4 characters!\")\n",
        "        return None\n",
        "\n",
        "    # Define character pools\n",
        "    uppercase = string.ascii_uppercase  # ABCDEFGHIJKLMNOPQRSTUVWXYZ\n",
        "    lowercase = string.ascii_lowercase  # abcdefghijklmnopqrstuvwxyz\n",
        "    digits = string.digits              # 0123456789\n",
        "    symbols = string.punctuation        # !@#$%^&*()...\n",
        "\n",
        "    # Ensure password has at least one character from each category\n",
        "    all_characters = uppercase + lowercase + digits + symbols\n",
        "    password = random.choice(uppercase) + random.choice(lowercase) + random.choice(digits) + random.choice(symbols)\n",
        "\n",
        "    # Fill the remaining length with random choices from all categories\n",
        "    password += \"\".join(random.choices(all_characters, k=length-4))\n",
        "\n",
        "    # Shuffle the password to avoid predictable patterns\n",
        "    password = ''.join(random.sample(password, len(password)))\n",
        "\n",
        "    return password\n",
        "\n",
        "# User input for password length\n",
        "try:\n",
        "    length = int(input(\"Enter password length: \"))\n",
        "    password = generate_password(length)\n",
        "    if password:\n",
        "        print(\"\\n🔑 Your Secure Password:\", password)\n",
        "except ValueError:\n",
        "    print(\"❌ Invalid input! Please enter a valid number.\")\n"
      ]
    }
  ]
}